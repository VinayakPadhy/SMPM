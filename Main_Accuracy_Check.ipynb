{
  "cells": [
    {
      "cell_type": "code",
      "execution_count": 14,
      "id": "53dd42de",
      "metadata": {
        "id": "53dd42de"
      },
      "outputs": [],
      "source": [
        "import math\n",
        "import pandas as pd\n",
        "import matplotlib.pyplot as plt\n",
        "import numpy as np\n",
        "import tensorflow as tf\n",
        "from keras.layers import Bidirectional, GRU, LSTM, Dense\n",
        "from keras.models import Sequential\n",
        "from keras.layers import Input, Dense, Conv1D, MaxPooling1D, Flatten\n",
        "from keras.models import Model\n",
        "from sklearn.metrics import mean_squared_error\n",
        "import yfinance as yf\n",
        "from datetime import date, timedelta, datetime\n",
        "from sklearn.preprocessing import MinMaxScaler\n",
        "from sklearn.metrics import r2_score\n",
        "import seaborn as sns # Visualization\n",
        "sns.set_style('white', { 'axes.spines.right': False, 'axes.spines.top': False})\n",
        "from pandas.plotting import register_matplotlib_converters # This function adds plotting functions for calender dates\n",
        "import matplotlib.dates as mdates # Formatting dates\n",
        "from sklearn.metrics import mean_absolute_error\n",
        "\n"
      ]
    },
    {
      "cell_type": "code",
      "source": [
        "#\n",
        "Stock_symbol = 'NSEI'\n",
        "#\n",
        "\n",
        "#end_date =  date.today().strftime(\"%Y-%m-%d\")\n",
        "#df = yf.download(Stock_symbol, start='2013-01-01', end = '2022-12-31')\n",
        "df = pd.read_csv(\"/content/Data 5 years - Sheet1.csv\")\n",
        "#\n",
        "parameter = 'Close'\n",
        "#"
      ],
      "metadata": {
        "id": "MPxFA13N0DQj"
      },
      "id": "MPxFA13N0DQj",
      "execution_count": 15,
      "outputs": []
    },
    {
      "cell_type": "code",
      "execution_count": 16,
      "id": "0f3acc7c",
      "metadata": {
        "colab": {
          "base_uri": "https://localhost:8080/",
          "height": 334
        },
        "id": "0f3acc7c",
        "outputId": "e5510345-d65f-4ace-d1ea-0ac7e4601ce8"
      },
      "outputs": [
        {
          "output_type": "stream",
          "name": "stdout",
          "text": [
            "FEATURE LIST\n",
            "['Open', 'High', 'Low', 'Close', 'Adj Close', 'Volume', 'SMA20', 'SMA50', 'EMA20', 'EMA50', 'EMA200', 'UpperBB', 'LowerBB', 'RSI', 'MFI', 'ATR', 'Force_Index', 'MACD', 'MACD_SL', 'ADX', 'OBV', 'OBV_EMA']\n"
          ]
        },
        {
          "output_type": "execute_result",
          "data": {
            "text/plain": [
              "          Open         High          Low        Close    Adj Close  Volume  \\\n",
              "0  10477.54980  10495.20020  10404.65039  10442.20020  10442.20020  153400   \n",
              "1  10482.65039  10503.59961  10429.54980  10443.20020  10443.20020  167300   \n",
              "2  10469.40039  10513.00000  10441.45020  10504.79980  10504.79980  174900   \n",
              "3  10534.25000  10566.09961  10520.09961  10558.84961  10558.84961  180900   \n",
              "4  10591.70020  10631.20020  10588.54980  10623.59961  10623.59961  169000   \n",
              "\n",
              "         SMA20        SMA50        EMA20        EMA50  ...      LowerBB  \\\n",
              "0  10338.28257  10321.71500  10391.95908  10295.15271  ...  10065.99898   \n",
              "1  10354.05508  10326.88201  10396.83919  10300.95849  ...  10068.06503   \n",
              "2  10373.38257  10332.82400  10407.12115  10308.95227  ...  10067.10473   \n",
              "3  10399.12007  10338.09400  10421.57148  10318.75216  ...  10063.21136   \n",
              "4  10421.96504  10343.69000  10440.81225  10330.70697  ...  10055.41773   \n",
              "\n",
              "         RSI        MFI        ATR   Force_Index       MACD    MACD_SL  \\\n",
              "0  55.795277  47.511587  97.721261 -1.357590e+07  65.926644  13.548731   \n",
              "1  55.861800  54.258031  96.160575  1.673000e+05  61.722033   7.475296   \n",
              "2  59.868178  61.290050  92.221261  1.077377e+07  62.638366   6.713303   \n",
              "3  63.038396  61.771720  85.896275  9.777610e+06  66.954128   8.823252   \n",
              "4  66.456883  60.517474  85.124930  1.094275e+07  74.737655  13.285424   \n",
              "\n",
              "         ADX       OBV      OBV_EMA  \n",
              "0  15.715331  12111500  11957990.74  \n",
              "1  16.052246  12278800  11973267.37  \n",
              "2  16.225820  12453700  11996145.11  \n",
              "3  15.628212  12634600  12026547.73  \n",
              "4  14.766009  12803600  12063550.22  \n",
              "\n",
              "[5 rows x 22 columns]"
            ],
            "text/html": [
              "\n",
              "  <div id=\"df-3b8571c0-d46e-4fe6-aeda-951e106ac6e5\">\n",
              "    <div class=\"colab-df-container\">\n",
              "      <div>\n",
              "<style scoped>\n",
              "    .dataframe tbody tr th:only-of-type {\n",
              "        vertical-align: middle;\n",
              "    }\n",
              "\n",
              "    .dataframe tbody tr th {\n",
              "        vertical-align: top;\n",
              "    }\n",
              "\n",
              "    .dataframe thead th {\n",
              "        text-align: right;\n",
              "    }\n",
              "</style>\n",
              "<table border=\"1\" class=\"dataframe\">\n",
              "  <thead>\n",
              "    <tr style=\"text-align: right;\">\n",
              "      <th></th>\n",
              "      <th>Open</th>\n",
              "      <th>High</th>\n",
              "      <th>Low</th>\n",
              "      <th>Close</th>\n",
              "      <th>Adj Close</th>\n",
              "      <th>Volume</th>\n",
              "      <th>SMA20</th>\n",
              "      <th>SMA50</th>\n",
              "      <th>EMA20</th>\n",
              "      <th>EMA50</th>\n",
              "      <th>...</th>\n",
              "      <th>LowerBB</th>\n",
              "      <th>RSI</th>\n",
              "      <th>MFI</th>\n",
              "      <th>ATR</th>\n",
              "      <th>Force_Index</th>\n",
              "      <th>MACD</th>\n",
              "      <th>MACD_SL</th>\n",
              "      <th>ADX</th>\n",
              "      <th>OBV</th>\n",
              "      <th>OBV_EMA</th>\n",
              "    </tr>\n",
              "  </thead>\n",
              "  <tbody>\n",
              "    <tr>\n",
              "      <th>0</th>\n",
              "      <td>10477.54980</td>\n",
              "      <td>10495.20020</td>\n",
              "      <td>10404.65039</td>\n",
              "      <td>10442.20020</td>\n",
              "      <td>10442.20020</td>\n",
              "      <td>153400</td>\n",
              "      <td>10338.28257</td>\n",
              "      <td>10321.71500</td>\n",
              "      <td>10391.95908</td>\n",
              "      <td>10295.15271</td>\n",
              "      <td>...</td>\n",
              "      <td>10065.99898</td>\n",
              "      <td>55.795277</td>\n",
              "      <td>47.511587</td>\n",
              "      <td>97.721261</td>\n",
              "      <td>-1.357590e+07</td>\n",
              "      <td>65.926644</td>\n",
              "      <td>13.548731</td>\n",
              "      <td>15.715331</td>\n",
              "      <td>12111500</td>\n",
              "      <td>11957990.74</td>\n",
              "    </tr>\n",
              "    <tr>\n",
              "      <th>1</th>\n",
              "      <td>10482.65039</td>\n",
              "      <td>10503.59961</td>\n",
              "      <td>10429.54980</td>\n",
              "      <td>10443.20020</td>\n",
              "      <td>10443.20020</td>\n",
              "      <td>167300</td>\n",
              "      <td>10354.05508</td>\n",
              "      <td>10326.88201</td>\n",
              "      <td>10396.83919</td>\n",
              "      <td>10300.95849</td>\n",
              "      <td>...</td>\n",
              "      <td>10068.06503</td>\n",
              "      <td>55.861800</td>\n",
              "      <td>54.258031</td>\n",
              "      <td>96.160575</td>\n",
              "      <td>1.673000e+05</td>\n",
              "      <td>61.722033</td>\n",
              "      <td>7.475296</td>\n",
              "      <td>16.052246</td>\n",
              "      <td>12278800</td>\n",
              "      <td>11973267.37</td>\n",
              "    </tr>\n",
              "    <tr>\n",
              "      <th>2</th>\n",
              "      <td>10469.40039</td>\n",
              "      <td>10513.00000</td>\n",
              "      <td>10441.45020</td>\n",
              "      <td>10504.79980</td>\n",
              "      <td>10504.79980</td>\n",
              "      <td>174900</td>\n",
              "      <td>10373.38257</td>\n",
              "      <td>10332.82400</td>\n",
              "      <td>10407.12115</td>\n",
              "      <td>10308.95227</td>\n",
              "      <td>...</td>\n",
              "      <td>10067.10473</td>\n",
              "      <td>59.868178</td>\n",
              "      <td>61.290050</td>\n",
              "      <td>92.221261</td>\n",
              "      <td>1.077377e+07</td>\n",
              "      <td>62.638366</td>\n",
              "      <td>6.713303</td>\n",
              "      <td>16.225820</td>\n",
              "      <td>12453700</td>\n",
              "      <td>11996145.11</td>\n",
              "    </tr>\n",
              "    <tr>\n",
              "      <th>3</th>\n",
              "      <td>10534.25000</td>\n",
              "      <td>10566.09961</td>\n",
              "      <td>10520.09961</td>\n",
              "      <td>10558.84961</td>\n",
              "      <td>10558.84961</td>\n",
              "      <td>180900</td>\n",
              "      <td>10399.12007</td>\n",
              "      <td>10338.09400</td>\n",
              "      <td>10421.57148</td>\n",
              "      <td>10318.75216</td>\n",
              "      <td>...</td>\n",
              "      <td>10063.21136</td>\n",
              "      <td>63.038396</td>\n",
              "      <td>61.771720</td>\n",
              "      <td>85.896275</td>\n",
              "      <td>9.777610e+06</td>\n",
              "      <td>66.954128</td>\n",
              "      <td>8.823252</td>\n",
              "      <td>15.628212</td>\n",
              "      <td>12634600</td>\n",
              "      <td>12026547.73</td>\n",
              "    </tr>\n",
              "    <tr>\n",
              "      <th>4</th>\n",
              "      <td>10591.70020</td>\n",
              "      <td>10631.20020</td>\n",
              "      <td>10588.54980</td>\n",
              "      <td>10623.59961</td>\n",
              "      <td>10623.59961</td>\n",
              "      <td>169000</td>\n",
              "      <td>10421.96504</td>\n",
              "      <td>10343.69000</td>\n",
              "      <td>10440.81225</td>\n",
              "      <td>10330.70697</td>\n",
              "      <td>...</td>\n",
              "      <td>10055.41773</td>\n",
              "      <td>66.456883</td>\n",
              "      <td>60.517474</td>\n",
              "      <td>85.124930</td>\n",
              "      <td>1.094275e+07</td>\n",
              "      <td>74.737655</td>\n",
              "      <td>13.285424</td>\n",
              "      <td>14.766009</td>\n",
              "      <td>12803600</td>\n",
              "      <td>12063550.22</td>\n",
              "    </tr>\n",
              "  </tbody>\n",
              "</table>\n",
              "<p>5 rows × 22 columns</p>\n",
              "</div>\n",
              "      <button class=\"colab-df-convert\" onclick=\"convertToInteractive('df-3b8571c0-d46e-4fe6-aeda-951e106ac6e5')\"\n",
              "              title=\"Convert this dataframe to an interactive table.\"\n",
              "              style=\"display:none;\">\n",
              "        \n",
              "  <svg xmlns=\"http://www.w3.org/2000/svg\" height=\"24px\"viewBox=\"0 0 24 24\"\n",
              "       width=\"24px\">\n",
              "    <path d=\"M0 0h24v24H0V0z\" fill=\"none\"/>\n",
              "    <path d=\"M18.56 5.44l.94 2.06.94-2.06 2.06-.94-2.06-.94-.94-2.06-.94 2.06-2.06.94zm-11 1L8.5 8.5l.94-2.06 2.06-.94-2.06-.94L8.5 2.5l-.94 2.06-2.06.94zm10 10l.94 2.06.94-2.06 2.06-.94-2.06-.94-.94-2.06-.94 2.06-2.06.94z\"/><path d=\"M17.41 7.96l-1.37-1.37c-.4-.4-.92-.59-1.43-.59-.52 0-1.04.2-1.43.59L10.3 9.45l-7.72 7.72c-.78.78-.78 2.05 0 2.83L4 21.41c.39.39.9.59 1.41.59.51 0 1.02-.2 1.41-.59l7.78-7.78 2.81-2.81c.8-.78.8-2.07 0-2.86zM5.41 20L4 18.59l7.72-7.72 1.47 1.35L5.41 20z\"/>\n",
              "  </svg>\n",
              "      </button>\n",
              "      \n",
              "  <style>\n",
              "    .colab-df-container {\n",
              "      display:flex;\n",
              "      flex-wrap:wrap;\n",
              "      gap: 12px;\n",
              "    }\n",
              "\n",
              "    .colab-df-convert {\n",
              "      background-color: #E8F0FE;\n",
              "      border: none;\n",
              "      border-radius: 50%;\n",
              "      cursor: pointer;\n",
              "      display: none;\n",
              "      fill: #1967D2;\n",
              "      height: 32px;\n",
              "      padding: 0 0 0 0;\n",
              "      width: 32px;\n",
              "    }\n",
              "\n",
              "    .colab-df-convert:hover {\n",
              "      background-color: #E2EBFA;\n",
              "      box-shadow: 0px 1px 2px rgba(60, 64, 67, 0.3), 0px 1px 3px 1px rgba(60, 64, 67, 0.15);\n",
              "      fill: #174EA6;\n",
              "    }\n",
              "\n",
              "    [theme=dark] .colab-df-convert {\n",
              "      background-color: #3B4455;\n",
              "      fill: #D2E3FC;\n",
              "    }\n",
              "\n",
              "    [theme=dark] .colab-df-convert:hover {\n",
              "      background-color: #434B5C;\n",
              "      box-shadow: 0px 1px 3px 1px rgba(0, 0, 0, 0.15);\n",
              "      filter: drop-shadow(0px 1px 2px rgba(0, 0, 0, 0.3));\n",
              "      fill: #FFFFFF;\n",
              "    }\n",
              "  </style>\n",
              "\n",
              "      <script>\n",
              "        const buttonEl =\n",
              "          document.querySelector('#df-3b8571c0-d46e-4fe6-aeda-951e106ac6e5 button.colab-df-convert');\n",
              "        buttonEl.style.display =\n",
              "          google.colab.kernel.accessAllowed ? 'block' : 'none';\n",
              "\n",
              "        async function convertToInteractive(key) {\n",
              "          const element = document.querySelector('#df-3b8571c0-d46e-4fe6-aeda-951e106ac6e5');\n",
              "          const dataTable =\n",
              "            await google.colab.kernel.invokeFunction('convertToInteractive',\n",
              "                                                     [key], {});\n",
              "          if (!dataTable) return;\n",
              "\n",
              "          const docLinkHtml = 'Like what you see? Visit the ' +\n",
              "            '<a target=\"_blank\" href=https://colab.research.google.com/notebooks/data_table.ipynb>data table notebook</a>'\n",
              "            + ' to learn more about interactive tables.';\n",
              "          element.innerHTML = '';\n",
              "          dataTable['output_type'] = 'display_data';\n",
              "          await google.colab.output.renderOutput(dataTable, element);\n",
              "          const docLink = document.createElement('div');\n",
              "          docLink.innerHTML = docLinkHtml;\n",
              "          element.appendChild(docLink);\n",
              "        }\n",
              "      </script>\n",
              "    </div>\n",
              "  </div>\n",
              "  "
            ]
          },
          "metadata": {},
          "execution_count": 16
        }
      ],
      "source": [
        "# Indexing Batches\n",
        "#df = df[29:]\n",
        "train_df = df.sort_values(by=['Date']).copy()\n",
        "\n",
        "# List of considered Features\n",
        "# FEATURES = ['High', 'Low', 'Open', 'Close', 'Volume']\n",
        "df.set_index('Date', inplace=True, drop=True)\n",
        "FEATURES=df.columns.tolist()\n",
        "print('FEATURE LIST')\n",
        "print([f for f in FEATURES])\n",
        "# print('FEATURE LIST')\n",
        "# print([f for f in FEATURES])\n",
        "\n",
        "# Create the dataset with features and filter the data to the list of FEATURES\n",
        "data = pd.DataFrame(train_df)\n",
        "data_filtered = data[FEATURES]\n",
        "\n",
        "# We add a prediction column and set dummy values to prepare the data for scaling\n",
        "data_filtered_ext = data_filtered.copy()\n",
        "data_filtered_ext['Prediction'] = data_filtered_ext[parameter]\n",
        "\n",
        "#data_filtered.interpolate(method='linear', inplace=True)\n",
        "#data_filtered.fillna(method='ffill', inplace=True)\n",
        "#data_filtered.fillna(method='bfill', inplace=True)\n",
        "#data_filtered.fillna(method='ffill')\n",
        "# Print the tail of the dataframe\n",
        "\n",
        "#data_filtered.tail()\n",
        "data_filtered.isna().sum().sum()\n",
        "data_filtered.head()"
      ]
    },
    {
      "cell_type": "code",
      "execution_count": 17,
      "id": "646afd0b",
      "metadata": {
        "colab": {
          "base_uri": "https://localhost:8080/",
          "height": 317
        },
        "id": "646afd0b",
        "outputId": "7fb8666a-047f-4587-c069-90486b0fcd32"
      },
      "outputs": [
        {
          "output_type": "stream",
          "name": "stdout",
          "text": [
            "1232\n"
          ]
        },
        {
          "output_type": "execute_result",
          "data": {
            "text/plain": [
              "          Open         High          Low        Close    Adj Close  Volume  \\\n",
              "0  10477.54980  10495.20020  10404.65039  10442.20020  10442.20020  153400   \n",
              "1  10482.65039  10503.59961  10429.54980  10443.20020  10443.20020  167300   \n",
              "2  10469.40039  10513.00000  10441.45020  10504.79980  10504.79980  174900   \n",
              "3  10534.25000  10566.09961  10520.09961  10558.84961  10558.84961  180900   \n",
              "4  10591.70020  10631.20020  10588.54980  10623.59961  10623.59961  169000   \n",
              "\n",
              "         SMA20        SMA50        EMA20        EMA50  ...      LowerBB  \\\n",
              "0  10338.28257  10321.71500  10391.95908  10295.15271  ...  10065.99898   \n",
              "1  10354.05508  10326.88201  10396.83919  10300.95849  ...  10068.06503   \n",
              "2  10373.38257  10332.82400  10407.12115  10308.95227  ...  10067.10473   \n",
              "3  10399.12007  10338.09400  10421.57148  10318.75216  ...  10063.21136   \n",
              "4  10421.96504  10343.69000  10440.81225  10330.70697  ...  10055.41773   \n",
              "\n",
              "         RSI        MFI        ATR   Force_Index       MACD    MACD_SL  \\\n",
              "0  55.795277  47.511587  97.721261 -1.357590e+07  65.926644  13.548731   \n",
              "1  55.861800  54.258031  96.160575  1.673000e+05  61.722033   7.475296   \n",
              "2  59.868178  61.290050  92.221261  1.077377e+07  62.638366   6.713303   \n",
              "3  63.038396  61.771720  85.896275  9.777610e+06  66.954128   8.823252   \n",
              "4  66.456883  60.517474  85.124930  1.094275e+07  74.737655  13.285424   \n",
              "\n",
              "         ADX       OBV      OBV_EMA  \n",
              "0  15.715331  12111500  11957990.74  \n",
              "1  16.052246  12278800  11973267.37  \n",
              "2  16.225820  12453700  11996145.11  \n",
              "3  15.628212  12634600  12026547.73  \n",
              "4  14.766009  12803600  12063550.22  \n",
              "\n",
              "[5 rows x 22 columns]"
            ],
            "text/html": [
              "\n",
              "  <div id=\"df-7b99dac1-8b12-4b31-881a-6c6185c3f2f9\">\n",
              "    <div class=\"colab-df-container\">\n",
              "      <div>\n",
              "<style scoped>\n",
              "    .dataframe tbody tr th:only-of-type {\n",
              "        vertical-align: middle;\n",
              "    }\n",
              "\n",
              "    .dataframe tbody tr th {\n",
              "        vertical-align: top;\n",
              "    }\n",
              "\n",
              "    .dataframe thead th {\n",
              "        text-align: right;\n",
              "    }\n",
              "</style>\n",
              "<table border=\"1\" class=\"dataframe\">\n",
              "  <thead>\n",
              "    <tr style=\"text-align: right;\">\n",
              "      <th></th>\n",
              "      <th>Open</th>\n",
              "      <th>High</th>\n",
              "      <th>Low</th>\n",
              "      <th>Close</th>\n",
              "      <th>Adj Close</th>\n",
              "      <th>Volume</th>\n",
              "      <th>SMA20</th>\n",
              "      <th>SMA50</th>\n",
              "      <th>EMA20</th>\n",
              "      <th>EMA50</th>\n",
              "      <th>...</th>\n",
              "      <th>LowerBB</th>\n",
              "      <th>RSI</th>\n",
              "      <th>MFI</th>\n",
              "      <th>ATR</th>\n",
              "      <th>Force_Index</th>\n",
              "      <th>MACD</th>\n",
              "      <th>MACD_SL</th>\n",
              "      <th>ADX</th>\n",
              "      <th>OBV</th>\n",
              "      <th>OBV_EMA</th>\n",
              "    </tr>\n",
              "  </thead>\n",
              "  <tbody>\n",
              "    <tr>\n",
              "      <th>0</th>\n",
              "      <td>10477.54980</td>\n",
              "      <td>10495.20020</td>\n",
              "      <td>10404.65039</td>\n",
              "      <td>10442.20020</td>\n",
              "      <td>10442.20020</td>\n",
              "      <td>153400</td>\n",
              "      <td>10338.28257</td>\n",
              "      <td>10321.71500</td>\n",
              "      <td>10391.95908</td>\n",
              "      <td>10295.15271</td>\n",
              "      <td>...</td>\n",
              "      <td>10065.99898</td>\n",
              "      <td>55.795277</td>\n",
              "      <td>47.511587</td>\n",
              "      <td>97.721261</td>\n",
              "      <td>-1.357590e+07</td>\n",
              "      <td>65.926644</td>\n",
              "      <td>13.548731</td>\n",
              "      <td>15.715331</td>\n",
              "      <td>12111500</td>\n",
              "      <td>11957990.74</td>\n",
              "    </tr>\n",
              "    <tr>\n",
              "      <th>1</th>\n",
              "      <td>10482.65039</td>\n",
              "      <td>10503.59961</td>\n",
              "      <td>10429.54980</td>\n",
              "      <td>10443.20020</td>\n",
              "      <td>10443.20020</td>\n",
              "      <td>167300</td>\n",
              "      <td>10354.05508</td>\n",
              "      <td>10326.88201</td>\n",
              "      <td>10396.83919</td>\n",
              "      <td>10300.95849</td>\n",
              "      <td>...</td>\n",
              "      <td>10068.06503</td>\n",
              "      <td>55.861800</td>\n",
              "      <td>54.258031</td>\n",
              "      <td>96.160575</td>\n",
              "      <td>1.673000e+05</td>\n",
              "      <td>61.722033</td>\n",
              "      <td>7.475296</td>\n",
              "      <td>16.052246</td>\n",
              "      <td>12278800</td>\n",
              "      <td>11973267.37</td>\n",
              "    </tr>\n",
              "    <tr>\n",
              "      <th>2</th>\n",
              "      <td>10469.40039</td>\n",
              "      <td>10513.00000</td>\n",
              "      <td>10441.45020</td>\n",
              "      <td>10504.79980</td>\n",
              "      <td>10504.79980</td>\n",
              "      <td>174900</td>\n",
              "      <td>10373.38257</td>\n",
              "      <td>10332.82400</td>\n",
              "      <td>10407.12115</td>\n",
              "      <td>10308.95227</td>\n",
              "      <td>...</td>\n",
              "      <td>10067.10473</td>\n",
              "      <td>59.868178</td>\n",
              "      <td>61.290050</td>\n",
              "      <td>92.221261</td>\n",
              "      <td>1.077377e+07</td>\n",
              "      <td>62.638366</td>\n",
              "      <td>6.713303</td>\n",
              "      <td>16.225820</td>\n",
              "      <td>12453700</td>\n",
              "      <td>11996145.11</td>\n",
              "    </tr>\n",
              "    <tr>\n",
              "      <th>3</th>\n",
              "      <td>10534.25000</td>\n",
              "      <td>10566.09961</td>\n",
              "      <td>10520.09961</td>\n",
              "      <td>10558.84961</td>\n",
              "      <td>10558.84961</td>\n",
              "      <td>180900</td>\n",
              "      <td>10399.12007</td>\n",
              "      <td>10338.09400</td>\n",
              "      <td>10421.57148</td>\n",
              "      <td>10318.75216</td>\n",
              "      <td>...</td>\n",
              "      <td>10063.21136</td>\n",
              "      <td>63.038396</td>\n",
              "      <td>61.771720</td>\n",
              "      <td>85.896275</td>\n",
              "      <td>9.777610e+06</td>\n",
              "      <td>66.954128</td>\n",
              "      <td>8.823252</td>\n",
              "      <td>15.628212</td>\n",
              "      <td>12634600</td>\n",
              "      <td>12026547.73</td>\n",
              "    </tr>\n",
              "    <tr>\n",
              "      <th>4</th>\n",
              "      <td>10591.70020</td>\n",
              "      <td>10631.20020</td>\n",
              "      <td>10588.54980</td>\n",
              "      <td>10623.59961</td>\n",
              "      <td>10623.59961</td>\n",
              "      <td>169000</td>\n",
              "      <td>10421.96504</td>\n",
              "      <td>10343.69000</td>\n",
              "      <td>10440.81225</td>\n",
              "      <td>10330.70697</td>\n",
              "      <td>...</td>\n",
              "      <td>10055.41773</td>\n",
              "      <td>66.456883</td>\n",
              "      <td>60.517474</td>\n",
              "      <td>85.124930</td>\n",
              "      <td>1.094275e+07</td>\n",
              "      <td>74.737655</td>\n",
              "      <td>13.285424</td>\n",
              "      <td>14.766009</td>\n",
              "      <td>12803600</td>\n",
              "      <td>12063550.22</td>\n",
              "    </tr>\n",
              "  </tbody>\n",
              "</table>\n",
              "<p>5 rows × 22 columns</p>\n",
              "</div>\n",
              "      <button class=\"colab-df-convert\" onclick=\"convertToInteractive('df-7b99dac1-8b12-4b31-881a-6c6185c3f2f9')\"\n",
              "              title=\"Convert this dataframe to an interactive table.\"\n",
              "              style=\"display:none;\">\n",
              "        \n",
              "  <svg xmlns=\"http://www.w3.org/2000/svg\" height=\"24px\"viewBox=\"0 0 24 24\"\n",
              "       width=\"24px\">\n",
              "    <path d=\"M0 0h24v24H0V0z\" fill=\"none\"/>\n",
              "    <path d=\"M18.56 5.44l.94 2.06.94-2.06 2.06-.94-2.06-.94-.94-2.06-.94 2.06-2.06.94zm-11 1L8.5 8.5l.94-2.06 2.06-.94-2.06-.94L8.5 2.5l-.94 2.06-2.06.94zm10 10l.94 2.06.94-2.06 2.06-.94-2.06-.94-.94-2.06-.94 2.06-2.06.94z\"/><path d=\"M17.41 7.96l-1.37-1.37c-.4-.4-.92-.59-1.43-.59-.52 0-1.04.2-1.43.59L10.3 9.45l-7.72 7.72c-.78.78-.78 2.05 0 2.83L4 21.41c.39.39.9.59 1.41.59.51 0 1.02-.2 1.41-.59l7.78-7.78 2.81-2.81c.8-.78.8-2.07 0-2.86zM5.41 20L4 18.59l7.72-7.72 1.47 1.35L5.41 20z\"/>\n",
              "  </svg>\n",
              "      </button>\n",
              "      \n",
              "  <style>\n",
              "    .colab-df-container {\n",
              "      display:flex;\n",
              "      flex-wrap:wrap;\n",
              "      gap: 12px;\n",
              "    }\n",
              "\n",
              "    .colab-df-convert {\n",
              "      background-color: #E8F0FE;\n",
              "      border: none;\n",
              "      border-radius: 50%;\n",
              "      cursor: pointer;\n",
              "      display: none;\n",
              "      fill: #1967D2;\n",
              "      height: 32px;\n",
              "      padding: 0 0 0 0;\n",
              "      width: 32px;\n",
              "    }\n",
              "\n",
              "    .colab-df-convert:hover {\n",
              "      background-color: #E2EBFA;\n",
              "      box-shadow: 0px 1px 2px rgba(60, 64, 67, 0.3), 0px 1px 3px 1px rgba(60, 64, 67, 0.15);\n",
              "      fill: #174EA6;\n",
              "    }\n",
              "\n",
              "    [theme=dark] .colab-df-convert {\n",
              "      background-color: #3B4455;\n",
              "      fill: #D2E3FC;\n",
              "    }\n",
              "\n",
              "    [theme=dark] .colab-df-convert:hover {\n",
              "      background-color: #434B5C;\n",
              "      box-shadow: 0px 1px 3px 1px rgba(0, 0, 0, 0.15);\n",
              "      filter: drop-shadow(0px 1px 2px rgba(0, 0, 0, 0.3));\n",
              "      fill: #FFFFFF;\n",
              "    }\n",
              "  </style>\n",
              "\n",
              "      <script>\n",
              "        const buttonEl =\n",
              "          document.querySelector('#df-7b99dac1-8b12-4b31-881a-6c6185c3f2f9 button.colab-df-convert');\n",
              "        buttonEl.style.display =\n",
              "          google.colab.kernel.accessAllowed ? 'block' : 'none';\n",
              "\n",
              "        async function convertToInteractive(key) {\n",
              "          const element = document.querySelector('#df-7b99dac1-8b12-4b31-881a-6c6185c3f2f9');\n",
              "          const dataTable =\n",
              "            await google.colab.kernel.invokeFunction('convertToInteractive',\n",
              "                                                     [key], {});\n",
              "          if (!dataTable) return;\n",
              "\n",
              "          const docLinkHtml = 'Like what you see? Visit the ' +\n",
              "            '<a target=\"_blank\" href=https://colab.research.google.com/notebooks/data_table.ipynb>data table notebook</a>'\n",
              "            + ' to learn more about interactive tables.';\n",
              "          element.innerHTML = '';\n",
              "          dataTable['output_type'] = 'display_data';\n",
              "          await google.colab.output.renderOutput(dataTable, element);\n",
              "          const docLink = document.createElement('div');\n",
              "          docLink.innerHTML = docLinkHtml;\n",
              "          element.appendChild(docLink);\n",
              "        }\n",
              "      </script>\n",
              "    </div>\n",
              "  </div>\n",
              "  "
            ]
          },
          "metadata": {},
          "execution_count": 17
        }
      ],
      "source": [
        "from sklearn.preprocessing import MinMaxScaler\n",
        "# Get the number of rows in the data\n",
        "nrows = data_filtered.shape[0]\n",
        "print(nrows)\n",
        "# Convert the data to numpy values\n",
        "np_data_unscaled = np.array(data_filtered)\n",
        "np_data = np.reshape(np_data_unscaled, (nrows, -1))\n",
        "#print(np_data.shape)\n",
        "\n",
        "# Transform the data by scaling each feature to a range between 0 and 1\n",
        "scaler = MinMaxScaler()\n",
        "np_data_scaled = scaler.fit_transform(np_data_unscaled)\n",
        "\n",
        "# Creating a separate scaler that works on a single column for scaling predictions\n",
        "scaler_pred = MinMaxScaler()\n",
        "df_Close = pd.DataFrame(data_filtered_ext['Close'])\n",
        "np_Close_scaled = scaler_pred.fit_transform(df_Close)\n",
        "data_filtered.head()"
      ]
    },
    {
      "cell_type": "code",
      "execution_count": 18,
      "id": "14828157",
      "metadata": {
        "colab": {
          "base_uri": "https://localhost:8080/"
        },
        "id": "14828157",
        "outputId": "1c831cc4-0ac8-4953-d43d-5e1c429fe519"
      },
      "outputs": [
        {
          "output_type": "stream",
          "name": "stdout",
          "text": [
            "(936, 50, 22) (936,)\n",
            "(246, 50, 22) (246,)\n",
            "0.23074832198888628\n",
            "0.23074832198888628\n"
          ]
        }
      ],
      "source": [
        "# Set the sequence length - this is the timeframe used to make a single prediction\n",
        "sequence_length = 50\n",
        "\n",
        "# Prediction Index\n",
        "prediction = \"Close\"\n",
        "index_Close = data.columns.get_loc(prediction)\n",
        "\n",
        "# Split the training data into train and train data sets\n",
        "# As a first step, we get the number of rows to train the model on 80% of the data \n",
        "train_data_len = math.ceil(np_data_scaled.shape[0] * 0.8)\n",
        "\n",
        "# Create the training and test data\n",
        "train_data = np_data_scaled[0:train_data_len, :]\n",
        "test_data = np_data_scaled[train_data_len - sequence_length:, :]\n",
        "\n",
        "# The RNN needs data with the format of [samples, time steps, features]\n",
        "# Here, we create N samples, sequence_length time steps per sample, and 6 features\n",
        "def partition_dataset(sequence_length, data):\n",
        "    x, y = [], []\n",
        "    data_len = data.shape[0]\n",
        "    for i in range(sequence_length, data_len):\n",
        "        x.append(data[i-sequence_length:i,:]) #contains sequence_length values 0-sequence_length * columsn\n",
        "        y.append(data[i, index_Close]) #contains the prediction values for validation,  for single-step prediction\n",
        "    \n",
        "    # Convert the x and y to numpy arrays\n",
        "    x = np.array(x)\n",
        "    y = np.array(y)\n",
        "    return x, y\n",
        "\n",
        "# #Future prediction\n",
        "# n=7\n",
        "# #\n",
        "\n",
        "# def partition_dataset_n(sequence_length, data):\n",
        "#     x, y = [], []\n",
        "#     data_len = data.shape[0]\n",
        "#     for i in range(sequence_length, data_len-n):\n",
        "#         x.append(data[i-sequence_length:i,:]) #contains sequence_length values 0-sequence_length * columsn\n",
        "#         y.append(data[i+n-1, index_Close]) #contains the prediction values for validation,  for single-step prediction\n",
        "    \n",
        "#     # Convert the x and y to numpy arrays\n",
        "#     x = np.array(x)\n",
        "#     y = np.array(y)\n",
        "#     return x, y\n",
        "\n",
        "# Generate training data and test data\n",
        "X_train, Y_train = partition_dataset(sequence_length, train_data)\n",
        "X_test, Y_test = partition_dataset(sequence_length, test_data)\n",
        "\n",
        "# X_train_n, Y_train_n = partition_dataset_n(sequence_length, train_data)\n",
        "# X_test_n, Y_test_n = partition_dataset_n(sequence_length, test_data)\n",
        "\n",
        "# Print the shapes: the result is: (rows, training_sequence, features) (prediction value, )\n",
        "print(X_train.shape, Y_train.shape)\n",
        "print(X_test.shape, Y_test.shape)\n",
        "# print(X_train_n.shape, Y_train_n.shape)\n",
        "# print(X_test_n.shape, Y_test_n.shape)\n",
        "\n",
        "# Validate that the prediction value and the input match up\n",
        "# The last close price of the second input sample should equal the first prediction value\n",
        "print(X_train[1][sequence_length-1][index_Close])\n",
        "print(Y_train[0])\n",
        "# print(X_train_n[n][sequence_length-1][index_Close])\n",
        "# print(Y_train_n[0])"
      ]
    },
    {
      "cell_type": "markdown",
      "source": [
        "# Selected Features"
      ],
      "metadata": {
        "id": "ZecjvFsk__rF"
      },
      "id": "ZecjvFsk__rF"
    },
    {
      "cell_type": "code",
      "source": [
        "sf = [0, 1, 2, 4, 6, 11, 17, 18, 20, 21]\n",
        "num_train = np.size(X_train, 0)\n",
        "num_valid = np.size(X_test, 0)\n",
        "print(X_train.shape)\n",
        "X_train   = X_train[:,:,sf]\n",
        "print(X_train.shape)\n",
        "Y_train   = Y_train.reshape(num_train)  # Solve bug\n",
        "X_test   = X_test[:,:,sf]\n",
        "Y_test   = Y_test.reshape(num_valid) "
      ],
      "metadata": {
        "colab": {
          "base_uri": "https://localhost:8080/"
        },
        "id": "c6yIax6N_0GF",
        "outputId": "4b05d4e9-5f70-4333-ecad-959bbca789ff"
      },
      "id": "c6yIax6N_0GF",
      "execution_count": 19,
      "outputs": [
        {
          "output_type": "stream",
          "name": "stdout",
          "text": [
            "(936, 50, 22)\n",
            "(936, 50, 10)\n"
          ]
        }
      ]
    },
    {
      "cell_type": "code",
      "source": [
        "#Selected Features\n",
        "print('FEATURE LIST:')\n",
        "for i in sf:\n",
        "    print(FEATURES[i], end=', ')"
      ],
      "metadata": {
        "colab": {
          "base_uri": "https://localhost:8080/"
        },
        "id": "WQh84OghIeQu",
        "outputId": "768e411d-a563-42e0-e1a2-5e6adf621b41"
      },
      "id": "WQh84OghIeQu",
      "execution_count": 20,
      "outputs": [
        {
          "output_type": "stream",
          "name": "stdout",
          "text": [
            "FEATURE LIST:\n",
            "Open, High, Low, Adj Close, SMA20, UpperBB, MACD, MACD_SL, OBV, OBV_EMA, "
          ]
        }
      ]
    },
    {
      "cell_type": "markdown",
      "source": [
        "# Models"
      ],
      "metadata": {
        "id": "ekE6xGg-AF2T"
      },
      "id": "ekE6xGg-AF2T"
    },
    {
      "cell_type": "code",
      "execution_count": null,
      "id": "afea720d",
      "metadata": {
        "id": "afea720d"
      },
      "outputs": [],
      "source": [
        "def LSTM_1():\n",
        "    Lstm_1 = Sequential()\n",
        "    Lstm_1.add(LSTM(64, return_sequences = True, input_shape = (X_train.shape[1],X_train.shape[2])))\n",
        "    Lstm_1.add(LSTM(64))\n",
        "    Lstm_1.add(Dense(1, activation = 'ReLU'))\n",
        "    Lstm_1.compile(loss = 'mean_squared_error', optimizer = 'Adam', metrics = ['mae'])\n",
        "    return Lstm_1"
      ]
    },
    {
      "cell_type": "code",
      "execution_count": null,
      "id": "68fe118a",
      "metadata": {
        "id": "68fe118a"
      },
      "outputs": [],
      "source": [
        "def LSTM_2():\n",
        "    Lstm_2 = Sequential()\n",
        "    Lstm_2.add(LSTM(64, return_sequences = True, input_shape = (X_train.shape[1],X_train.shape[2])))\n",
        "    Lstm_2.add(LSTM(64, return_sequences = True))\n",
        "    Lstm_2.add(LSTM(64))\n",
        "    Lstm_2.add(Dense(1, activation = 'ReLU'))\n",
        "    Lstm_2.compile(loss = 'mean_squared_error', optimizer = 'Adam', metrics = ['mae'])\n",
        "    return Lstm_2"
      ]
    },
    {
      "cell_type": "code",
      "execution_count": null,
      "id": "4b9fb469",
      "metadata": {
        "id": "4b9fb469"
      },
      "outputs": [],
      "source": [
        "def Bi_1():\n",
        "    Bi_1 = Sequential()\n",
        "    Bi_1.add(Bidirectional(LSTM(64, return_sequences=True), input_shape = (X_train.shape[1],X_train.shape[2])))\n",
        "    Bi_1.add(Bidirectional(LSTM(64)))\n",
        "    Bi_1.add(Dense(1, activation = 'ReLU'))\n",
        "    Bi_1.compile(loss = 'mean_squared_error', optimizer = 'Adam', metrics=['mae'])\n",
        "    return Bi_1"
      ]
    },
    {
      "cell_type": "code",
      "execution_count": null,
      "id": "759eebd5",
      "metadata": {
        "id": "759eebd5"
      },
      "outputs": [],
      "source": [
        "def Bi_2():\n",
        "    Bi_2 = Sequential()\n",
        "    Bi_2.add(Bidirectional(LSTM(64, return_sequences=True), input_shape = (X_train.shape[1],X_train.shape[2])))\n",
        "    Bi_2.add(Bidirectional(LSTM(64, return_sequences=True)))\n",
        "    Bi_2.add(Bidirectional(LSTM(64)))\n",
        "    Bi_2.add(Dense(1, activation = 'ReLU'))\n",
        "    Bi_2.compile(loss = 'mean_squared_error', optimizer = 'Adam', metrics=['mae'])\n",
        "    return Bi_2"
      ]
    },
    {
      "cell_type": "code",
      "execution_count": null,
      "id": "18a61a3e",
      "metadata": {
        "id": "18a61a3e"
      },
      "outputs": [],
      "source": [
        "def GRU_1():\n",
        "    GRU_1 = Sequential()\n",
        "    GRU_1.add(GRU(64, return_sequences=True, input_shape= (X_train.shape[1],X_train.shape[2])))\n",
        "    GRU_1.add(GRU(64, return_sequences=False))\n",
        "    GRU_1.add(Dense(1, activation='ReLU'))\n",
        "    GRU_1.compile(optimizer = 'adam', loss = 'mean_squared_error', metrics = ['mae'])\n",
        "    return GRU_1"
      ]
    },
    {
      "cell_type": "code",
      "execution_count": null,
      "id": "6ae8ac51",
      "metadata": {
        "id": "6ae8ac51"
      },
      "outputs": [],
      "source": [
        "def GRU_2():\n",
        "    GRU_2 = Sequential()\n",
        "    GRU_2.add(GRU(64, return_sequences=True, input_shape= (X_train.shape[1],X_train.shape[2])))\n",
        "    GRU_2.add(GRU(64, return_sequences=True))\n",
        "    GRU_2.add(GRU(64, return_sequences=False))\n",
        "    GRU_2.add(Dense(1, activation='ReLU'))\n",
        "    GRU_2.compile(optimizer = 'adam', loss = 'mean_squared_error', metrics = ['mae'])\n",
        "    return GRU_2"
      ]
    },
    {
      "cell_type": "code",
      "execution_count": null,
      "id": "94b52ede",
      "metadata": {
        "id": "94b52ede"
      },
      "outputs": [],
      "source": [
        "def Bi_GRU_1():\n",
        "    Bi_GRU_1 = Sequential()\n",
        "    Bi_GRU_1.add(Bidirectional(GRU(64, return_sequences=True), input_shape = (X_train.shape[1],X_train.shape[2])))\n",
        "    Bi_GRU_1.add(Bidirectional(GRU(64, return_sequences=False)))\n",
        "    Bi_GRU_1.add(Dense(1, activation = 'ReLU'))\n",
        "    Bi_GRU_1.compile(loss = 'mean_squared_error', optimizer = 'Adam', metrics=['mae'])\n",
        "    return Bi_GRU_1"
      ]
    },
    {
      "cell_type": "code",
      "execution_count": null,
      "id": "425c1db7",
      "metadata": {
        "id": "425c1db7"
      },
      "outputs": [],
      "source": [
        "def Bi_GRU_2():\n",
        "    Bi_GRU_2 = Sequential()\n",
        "    Bi_GRU_2.add(Bidirectional(GRU(64, return_sequences=True), input_shape = (X_train.shape[1],X_train.shape[2])))\n",
        "    Bi_GRU_2.add(Bidirectional(GRU(64, return_sequences=True)))\n",
        "    Bi_GRU_2.add(Bidirectional(GRU(64)))\n",
        "    Bi_GRU_2.add(Dense(1, activation = 'ReLU'))\n",
        "    Bi_GRU_2.compile(loss = 'mean_squared_error', optimizer = 'Adam', metrics=['mae'])\n",
        "    return Bi_GRU_2"
      ]
    },
    {
      "cell_type": "code",
      "execution_count": null,
      "id": "822bbdd6",
      "metadata": {
        "id": "822bbdd6"
      },
      "outputs": [],
      "source": [
        "def CNN_1():\n",
        "    CNN_1 = Sequential()\n",
        "    CNN_1.add(Conv1D(64, kernel_size=3, activation='relu', input_shape= (X_train.shape[1],X_train.shape[2])))\n",
        "    CNN_1.add(MaxPooling1D(pool_size=2))\n",
        "    CNN_1.add(Conv1D(64, kernel_size=3, activation='relu'))\n",
        "    CNN_1.add(MaxPooling1D(pool_size=2))\n",
        "    CNN_1.add(Flatten())\n",
        "    CNN_1.add(Dense(1, activation='ReLU'))\n",
        "    CNN_1.compile(optimizer='adam', loss='mean_squared_error', metrics = ['mae'])\n",
        "    return CNN_1"
      ]
    },
    {
      "cell_type": "code",
      "execution_count": null,
      "id": "f2e70a3c",
      "metadata": {
        "id": "f2e70a3c"
      },
      "outputs": [],
      "source": [
        "def CNN_2():\n",
        "    CNN_2 = Sequential()\n",
        "    CNN_2.add(Conv1D(64, kernel_size=3, activation='relu', input_shape= (X_train.shape[1],X_train.shape[2])))\n",
        "    CNN_2.add(MaxPooling1D(pool_size=2))\n",
        "    CNN_2.add(Conv1D(64, kernel_size=3, activation='relu'))\n",
        "    CNN_2.add(MaxPooling1D(pool_size=2))\n",
        "    CNN_2.add(Conv1D(64, kernel_size=3, activation='relu'))\n",
        "    CNN_2.add(MaxPooling1D(pool_size=2))\n",
        "    CNN_2.add(Flatten())\n",
        "    CNN_2.add(Dense(1, activation='ReLU'))\n",
        "    CNN_2.compile(optimizer='adam', loss='mean_squared_error', metrics = ['mae'])\n",
        "    return CNN_2"
      ]
    },
    {
      "cell_type": "code",
      "execution_count": null,
      "id": "dccb8020",
      "metadata": {
        "colab": {
          "base_uri": "https://localhost:8080/"
        },
        "id": "dccb8020",
        "outputId": "725f5706-3be2-4668-e5d4-d17ee571d296"
      },
      "outputs": [
        {
          "output_type": "stream",
          "name": "stdout",
          "text": [
            "Choose The Symbol to Impliment the desire Model: \n",
            "LSTM 2 Layer - A\n",
            "LSTM 3 Layer - B\n",
            "Bidirectional LSTM 2 Layer- C\n",
            "Bidirectional LSTM 3 Layer - D\n",
            "GRU 2 Layer - E\n",
            "GRU 3 Layer - F\n",
            "Bidirectional GRU 2 Layer- G\n",
            "Bidirectional GRU 3 Layer- H\n",
            "CNN 2 Layer - I\n",
            "CNN 3 Layer - J\n"
          ]
        }
      ],
      "source": [
        "print(\"Choose The Symbol to Impliment the desire Model: \")\n",
        "print(\"LSTM 2 Layer - A\")\n",
        "print(\"LSTM 3 Layer - B\")\n",
        "print(\"Bidirectional LSTM 2 Layer- C\")\n",
        "print(\"Bidirectional LSTM 3 Layer - D\")\n",
        "print(\"GRU 2 Layer - E\")\n",
        "print(\"GRU 3 Layer - F\")\n",
        "print(\"Bidirectional GRU 2 Layer- G\")\n",
        "print(\"Bidirectional GRU 3 Layer- H\")\n",
        "print(\"CNN 2 Layer - I\")\n",
        "print(\"CNN 3 Layer - J\")"
      ]
    },
    {
      "cell_type": "code",
      "execution_count": null,
      "id": "c8ca9d1c",
      "metadata": {
        "colab": {
          "base_uri": "https://localhost:8080/"
        },
        "id": "c8ca9d1c",
        "outputId": "df7158d2-2e7e-48e3-fc36-bf5ccc3bad1d"
      },
      "outputs": [
        {
          "name": "stdout",
          "output_type": "stream",
          "text": [
            "Enter the symbol of the desired MODEL: e\n"
          ]
        }
      ],
      "source": [
        "MODEL = input('Enter the symbol of the desired MODEL: ').upper()"
      ]
    },
    {
      "cell_type": "code",
      "execution_count": null,
      "id": "4befb35c",
      "metadata": {
        "colab": {
          "base_uri": "https://localhost:8080/"
        },
        "id": "4befb35c",
        "outputId": "b96bae25-bad9-46b3-9ca0-58baf3305f07"
      },
      "outputs": [
        {
          "output_type": "stream",
          "name": "stdout",
          "text": [
            "GRU 2 Layer\n"
          ]
        }
      ],
      "source": [
        "if MODEL == 'A':\n",
        "    model = LSTM_1()\n",
        "    print('LSTM 2 Layer')\n",
        "elif MODEL == 'B':\n",
        "    model = LSTM_2()\n",
        "    print('LSTM 3 Layer')\n",
        "elif MODEL == 'C':    \n",
        "    model = Bi_1()\n",
        "    print('BI-LSTM 2 Layer')\n",
        "elif MODEL == 'D':    \n",
        "    model = Bi_2()\n",
        "    print('BI-LSTM 3 Layer')\n",
        "elif MODEL == 'E':    \n",
        "    model = GRU_1()\n",
        "    print('GRU 2 Layer')\n",
        "elif MODEL == 'F':\n",
        "    model = GRU_2()\n",
        "    print('GRU 3 Layer')\n",
        "elif MODEL == 'G':\n",
        "    model = Bi_GRU_1()\n",
        "    print('Bi-GRU 2 Layer')\n",
        "elif MODEL == 'H':\n",
        "    model = Bi_GRU_2()\n",
        "    print('Bi-GRU 3 Layer')\n",
        "elif MODEL == 'I':    \n",
        "    model = CNN_1()\n",
        "    print('CNN 2 Layer')\n",
        "elif MODEL == 'J':\n",
        "    model = CNN_2()\n",
        "    print('CNN 3 Layer')\n",
        "else:\n",
        "    print('MODEL code is invalid or MODEL is not included in the system.')\n"
      ]
    },
    {
      "cell_type": "markdown",
      "id": "fb163a12",
      "metadata": {
        "id": "fb163a12"
      },
      "source": [
        "# One Step Ahead"
      ]
    },
    {
      "cell_type": "code",
      "execution_count": null,
      "id": "e93d6ef3",
      "metadata": {
        "colab": {
          "base_uri": "https://localhost:8080/"
        },
        "id": "e93d6ef3",
        "outputId": "f75b3f9f-63a2-4196-a76a-5e75f72a1439"
      },
      "outputs": [
        {
          "output_type": "stream",
          "name": "stdout",
          "text": [
            "Epoch 1/10\n",
            "30/30 [==============================] - 6s 57ms/step - loss: 0.0180 - mae: 0.0974\n",
            "Epoch 2/10\n",
            "30/30 [==============================] - 3s 92ms/step - loss: 9.7872e-04 - mae: 0.0236\n",
            "Epoch 3/10\n",
            "30/30 [==============================] - 2s 61ms/step - loss: 4.0777e-04 - mae: 0.0132\n",
            "Epoch 4/10\n",
            "30/30 [==============================] - 2s 58ms/step - loss: 3.3915e-04 - mae: 0.0126\n",
            "Epoch 5/10\n",
            "30/30 [==============================] - 2s 58ms/step - loss: 2.9700e-04 - mae: 0.0119\n",
            "Epoch 6/10\n",
            "30/30 [==============================] - 2s 57ms/step - loss: 2.5750e-04 - mae: 0.0109\n",
            "Epoch 7/10\n",
            "30/30 [==============================] - 2s 57ms/step - loss: 2.4553e-04 - mae: 0.0106\n",
            "Epoch 8/10\n",
            "30/30 [==============================] - 2s 61ms/step - loss: 2.3122e-04 - mae: 0.0106\n",
            "Epoch 9/10\n",
            "30/30 [==============================] - 3s 93ms/step - loss: 2.2502e-04 - mae: 0.0103\n",
            "Epoch 10/10\n",
            "30/30 [==============================] - 2s 59ms/step - loss: 2.2797e-04 - mae: 0.0107\n"
          ]
        },
        {
          "output_type": "execute_result",
          "data": {
            "text/plain": [
              "<keras.callbacks.History at 0x7fbd2b67b550>"
            ]
          },
          "metadata": {},
          "execution_count": 20
        }
      ],
      "source": [
        "model.fit(X_train, Y_train, epochs = 10, batch_size = 32, verbose = 1)"
      ]
    },
    {
      "cell_type": "code",
      "execution_count": null,
      "id": "66f89d19",
      "metadata": {
        "colab": {
          "base_uri": "https://localhost:8080/"
        },
        "id": "66f89d19",
        "outputId": "bc42a1ec-0547-4e23-f5df-17c698dc8ba9"
      },
      "outputs": [
        {
          "output_type": "stream",
          "name": "stdout",
          "text": [
            "8/8 [==============================] - 1s 16ms/step\n"
          ]
        }
      ],
      "source": [
        "test_predict_1 = model.predict(X_test)"
      ]
    },
    {
      "cell_type": "code",
      "execution_count": null,
      "id": "42a01863",
      "metadata": {
        "colab": {
          "base_uri": "https://localhost:8080/"
        },
        "id": "42a01863",
        "outputId": "9767b4d8-59c7-4267-c4a0-f70fc27107ff"
      },
      "outputs": [
        {
          "output_type": "stream",
          "name": "stdout",
          "text": [
            "Accuracy: 0.9443031745570502\n"
          ]
        }
      ],
      "source": [
        "from sklearn.metrics import r2_score\n",
        "accuracy_1 = r2_score(Y_test, test_predict_1)\n",
        "print('Accuracy:', accuracy_1)"
      ]
    },
    {
      "cell_type": "code",
      "execution_count": null,
      "id": "8f246bfa",
      "metadata": {
        "colab": {
          "base_uri": "https://localhost:8080/"
        },
        "id": "8f246bfa",
        "outputId": "199ec436-1298-4b05-a304-155113733d61"
      },
      "outputs": [
        {
          "output_type": "stream",
          "name": "stdout",
          "text": [
            "Mean Absolute Error: 0.013866232386794833\n"
          ]
        }
      ],
      "source": [
        "mae_1 = mean_absolute_error(Y_test, test_predict_1)\n",
        "mse_1 = mean_squared_error(Y_test ,test_predict_1)\n",
        "rmse_1 = np.sqrt(mse_1)\n",
        "print(\"Mean Absolute Error:\", mae_1)\n",
        "print('MSE:', mse_1)\n",
        "print('RMSE:', rmse_1)"
      ]
    },
    {
      "cell_type": "code",
      "execution_count": null,
      "id": "af023c7f",
      "metadata": {
        "id": "af023c7f"
      },
      "outputs": [],
      "source": [
        "y_pred_scaled = test_predict_1\n",
        "y_pred = scaler_pred.inverse_transform(y_pred_scaled)\n",
        "y_test_unscaled = scaler_pred.inverse_transform(Y_test.reshape(-1, 1))"
      ]
    },
    {
      "cell_type": "code",
      "execution_count": null,
      "id": "f5e5a5c7",
      "metadata": {
        "colab": {
          "base_uri": "https://localhost:8080/"
        },
        "id": "f5e5a5c7",
        "outputId": "1605605b-0d92-4fd9-bc96-41af1e474f25"
      },
      "outputs": [
        {
          "output_type": "stream",
          "name": "stdout",
          "text": [
            "Mean Absolute Percentage Error (MAPE): 0.91 %\n"
          ]
        }
      ],
      "source": [
        "MAPE = np.mean((np.abs(np.subtract(y_test_unscaled, y_pred)/ y_test_unscaled))) * 100\n",
        "MDAPE = np.median((np.abs(np.subtract(y_test_unscaled, y_pred)/ y_test_unscaled)) ) * 100\n",
        "print(f'Mean Absolute Percentage Error (MAPE): {np.round(MAPE, 2)} %')\n",
        "print(f'Median Absolute Percentage Error (MDAPE): {np.round(MDAPE, 2)} %')"
      ]
    },
    {
      "cell_type": "code",
      "execution_count": null,
      "id": "5b548724",
      "metadata": {
        "colab": {
          "base_uri": "https://localhost:8080/",
          "height": 265
        },
        "id": "5b548724",
        "outputId": "b0c09c71-0cac-42f7-82e3-c92898ca249b"
      },
      "outputs": [
        {
          "output_type": "display_data",
          "data": {
            "text/plain": [
              "<Figure size 432x288 with 1 Axes>"
            ],
            "image/png": "[encoded data removed]"
          },
          "metadata": {}
        }
      ],
      "source": [
        "#plt.title(\"LSTM 2 Layers for 1 Step Ahead\")\n",
        "plt.plot(y_test_unscaled, label='Actual Values')\n",
        "plt.plot(y_pred, label='Predictions')\n",
        "plt.legend()\n",
        "plt.show()"
      ]
    },
    {
      "cell_type": "code",
      "execution_count": null,
      "id": "875ffa70",
      "metadata": {
        "id": "875ffa70"
      },
      "outputs": [],
      "source": [
        "# # The date from which on the date is displayed\n",
        "# display_start_date = \"2021-01-01\" \n",
        "\n",
        "# # Add the difference between the valid and predicted prices\n",
        "# train = pd.DataFrame(data_filtered_ext[parameter][:train_data_len + 1]).rename(columns={parameter: 'Y_train'})\n",
        "# valid = pd.DataFrame(data_filtered_ext[parameter][train_data_len:]).rename(columns={parameter: 'Y_test'})\n",
        "# valid.insert(1, \"y_pred\", y_pred, True)\n",
        "# valid.insert(1, \"residuals\", valid[\"y_pred\"] - valid[\"Y_test\"], True)\n",
        "# df_union = pd.concat([train, valid])\n",
        "\n",
        "# # Zoom in to a closer timeframe\n",
        "# df_union_zoom = df_union[df_union.index > display_start_date]\n",
        "\n",
        "# # Create the lineplot\n",
        "# fig, ax1 = plt.subplots(figsize=(16, 8))\n",
        "# plt.title(\"y_pred vs Y_test\")\n",
        "# plt.ylabel(Stock_symbol, fontsize=18)\n",
        "# sns.set_palette([\"#090364\", \"#1960EF\", \"#EF5919\"])\n",
        "# sns.lineplot(data=df_union_zoom[['y_pred', 'Y_train', 'Y_test']], linewidth=1.0, dashes=False, ax=ax1)\n",
        "\n",
        "# # Create the bar plot with the differences\n",
        "# df_sub = [\"#2BC97A\" if x > 0 else \"#C92B2B\" for x in df_union_zoom[\"residuals\"].dropna()]\n",
        "# ax1.bar(height=df_union_zoom['residuals'].dropna(), x=df_union_zoom['residuals'].dropna().index, width=3, label='residuals', color=df_sub)\n",
        "# plt.legend()\n",
        "# plt.show()"
      ]
    }
  ],
  "metadata": {
    "kernelspec": {
      "display_name": "Python 3 (ipykernel)",
      "language": "python",
      "name": "python3"
    },
    "language_info": {
      "codemirror_mode": {
        "name": "ipython",
        "version": 3
      },
      "file_extension": ".py",
      "mimetype": "text/x-python",
      "name": "python",
      "nbconvert_exporter": "python",
      "pygments_lexer": "ipython3",
      "version": "3.10.6"
    },
    "colab": {
      "provenance": []
    }
  },
  "nbformat": 4,
  "nbformat_minor": 5
}